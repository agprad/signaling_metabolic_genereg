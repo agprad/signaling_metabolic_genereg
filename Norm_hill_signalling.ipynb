{
  "cells": [
    {
      "cell_type": "markdown",
      "metadata": {
        "id": "view-in-github",
        "colab_type": "text"
      },
      "source": [
        "<a href=\"https://colab.research.google.com/github/agprad/signaling_metabolic_genereg/blob/main/Norm_hill_signalling.ipynb\" target=\"_parent\"><img src=\"https://colab.research.google.com/assets/colab-badge.svg\" alt=\"Open In Colab\"/></a>"
      ]
    },
    {
      "cell_type": "code",
      "execution_count": null,
      "id": "87f19f3c",
      "metadata": {
        "id": "87f19f3c"
      },
      "outputs": [],
      "source": [
        "import numpy as np\n",
        "import matplotlib.pyplot as plt\n",
        "from scipy.integrate import odeint\n",
        "import math\n",
        "import itertools"
      ]
    },
    {
      "cell_type": "code",
      "execution_count": null,
      "id": "98ba9d09",
      "metadata": {
        "id": "98ba9d09"
      },
      "outputs": [],
      "source": [
        "x0 = [1,0,0,0,0]"
      ]
    },
    {
      "cell_type": "code",
      "execution_count": null,
      "id": "f93172cd",
      "metadata": {
        "id": "f93172cd"
      },
      "outputs": [],
      "source": [
        "k = 1.37696\n",
        "b = 2.56491\n",
        "n = 1.4\n",
        "def f_act (X):\n",
        "    return (b*(X**n))/((k**n)+(X**n))\n",
        "\n",
        "def f_inhib(X):\n",
        "    return 1-f_act(X)\n",
        "\n"
      ]
    },
    {
      "cell_type": "code",
      "execution_count": null,
      "id": "388af7be",
      "metadata": {
        "id": "388af7be"
      },
      "outputs": [],
      "source": [
        "def toy_main(x,t):\n",
        "    A = x[0]\n",
        "    B = x[1]\n",
        "    C = x[2]\n",
        "    D = x[3]\n",
        "    E = x[4]\n",
        "    dx = np.zeros(5)\n",
        "    dx[0] = 0\n",
        "    dx[1] = 0\n",
        "    dx[2] = f_act(A) + f_act(E) - f_act(A)*f_act(E) - C\n",
        "    dx[3] = f_act(B) - D\n",
        "    dx[4] = f_act(C)*f_inhib(D) - E\n",
        "    return dx\n"
      ]
    },
    {
      "cell_type": "code",
      "execution_count": null,
      "id": "5d9c1198",
      "metadata": {
        "id": "5d9c1198"
      },
      "outputs": [],
      "source": [
        "#solving odes\n",
        "t0 = np.array(np.linspace(10,30,100))\n",
        "\n",
        "x = np.array(odeint(toy_main,x0,t0))\n",
        "\n",
        "\n",
        "A0 = x[:,0]\n",
        "B0 = x[:,1]\n",
        "C0 = x[:,2]\n",
        "D0 = x[:,3]\n",
        "E0 = x[:,4]\n"
      ]
    },
    {
      "cell_type": "code",
      "execution_count": null,
      "id": "402bd313",
      "metadata": {
        "id": "402bd313"
      },
      "outputs": [],
      "source": [
        "x0 = [0,0,C0[-1],D0[-1],E0[-1]]"
      ]
    },
    {
      "cell_type": "code",
      "execution_count": null,
      "id": "2396ad04",
      "metadata": {
        "id": "2396ad04"
      },
      "outputs": [],
      "source": [
        "t1 = np.array(np.linspace(30,50,100))\n",
        "x = np.array(odeint(toy_main,x0,t1))\n",
        "\n",
        "\n",
        "A1 = x[:,0]\n",
        "B1 = x[:,1]\n",
        "C1 = x[:,2]\n",
        "D1 = x[:,3]\n",
        "E1 = x[:,4]\n"
      ]
    },
    {
      "cell_type": "code",
      "execution_count": null,
      "id": "752ff297",
      "metadata": {
        "id": "752ff297"
      },
      "outputs": [],
      "source": [
        "x0 = [0,1,C1[-1],D1[-1],E1[-1]]"
      ]
    },
    {
      "cell_type": "code",
      "execution_count": null,
      "id": "1f5b80a7",
      "metadata": {
        "id": "1f5b80a7"
      },
      "outputs": [],
      "source": [
        "t2 = np.array(np.linspace(50,70,100))\n",
        "\n",
        "x = np.array(odeint(toy_main,x0,t2))\n",
        "\n",
        "\n",
        "A2 = x[:,0]\n",
        "B2 = x[:,1]\n",
        "C2 = x[:,2]\n",
        "D2 = x[:,3]\n",
        "E2 = x[:,4]\n"
      ]
    },
    {
      "cell_type": "code",
      "execution_count": null,
      "id": "d25a5c16",
      "metadata": {
        "id": "d25a5c16"
      },
      "outputs": [],
      "source": [
        "x0 = [0,0,C2[-1],D2[-1],E2[-1]]"
      ]
    },
    {
      "cell_type": "code",
      "execution_count": null,
      "id": "00f31f55",
      "metadata": {
        "id": "00f31f55"
      },
      "outputs": [],
      "source": [
        "t3 = np.array(np.linspace(70,90,100))\n",
        "\n",
        "x = np.array(odeint(toy_main,x0,t3))\n",
        "\n",
        "\n",
        "A3 = x[:,0]\n",
        "B3 = x[:,1]\n",
        "C3 = x[:,2]\n",
        "D3 = x[:,3]\n",
        "E3 = x[:,4]\n"
      ]
    },
    {
      "cell_type": "code",
      "execution_count": null,
      "id": "cc9ac203",
      "metadata": {
        "id": "cc9ac203"
      },
      "outputs": [],
      "source": [
        "x0 = [1,1,C3[-1],D3[-1],E3[-1]]"
      ]
    },
    {
      "cell_type": "code",
      "execution_count": null,
      "id": "638d10ff",
      "metadata": {
        "id": "638d10ff"
      },
      "outputs": [],
      "source": [
        "t4 = np.array(np.linspace(90,110,100))\n",
        "\n",
        "x = np.array(odeint(toy_main,x0,t4))\n",
        "\n",
        "\n",
        "A4 = x[:,0]\n",
        "B4 = x[:,1]\n",
        "C4 = x[:,2]\n",
        "D4 = x[:,3]\n",
        "E4 = x[:,4]\n"
      ]
    },
    {
      "cell_type": "code",
      "execution_count": null,
      "id": "378b678e",
      "metadata": {
        "id": "378b678e"
      },
      "outputs": [],
      "source": [
        "C = list(itertools.chain(C0,C1, C2 , C3 , C4))\n",
        "D = list(itertools.chain(D0,D1, D2 , D3 , D4))\n",
        "E = list(itertools.chain(E0,E1, E2 , E3 , E4))\n",
        "t = list(itertools.chain(t0,t1, t2 , t3 , t4))"
      ]
    },
    {
      "cell_type": "code",
      "execution_count": null,
      "id": "c67c8404",
      "metadata": {
        "colab": {
          "base_uri": "https://localhost:8080/",
          "height": 334
        },
        "id": "c67c8404",
        "outputId": "033e97b9-35bc-4bf1-8e06-6bda49fb9124"
      },
      "outputs": [
        {
          "output_type": "display_data",
          "data": {
            "text/plain": [
              "<Figure size 576x360 with 1 Axes>"
            ],
            "image/png": "[encoded data removed]"
          },
          "metadata": {
            "needs_background": "light"
          }
        }
      ],
      "source": [
        "plt.figure(figsize=(8,5))\n",
        "plt.plot(t,C,color=\"red\",label=\"C\")\n",
        "plt.plot(t,D,color=\"green\",label=\"D\")\n",
        "plt.plot(t,E,color=\"Yellow\",label=\"E\")\n",
        "plt.legend(loc=\"best\")\n",
        "plt.xlabel(\"time\")\n",
        "plt.ylabel(\"Fraction Activation\")\n",
        "plt.show()"
      ]
    },
    {
      "cell_type": "code",
      "execution_count": null,
      "id": "c8bcd0be",
      "metadata": {
        "id": "c8bcd0be"
      },
      "outputs": [],
      "source": []
    }
  ],
  "metadata": {
    "kernelspec": {
      "display_name": "Python 3 (ipykernel)",
      "language": "python",
      "name": "python3"
    },
    "language_info": {
      "codemirror_mode": {
        "name": "ipython",
        "version": 3
      },
      "file_extension": ".py",
      "mimetype": "text/x-python",
      "name": "python",
      "nbconvert_exporter": "python",
      "pygments_lexer": "ipython3",
      "version": "3.8.10"
    },
    "colab": {
      "provenance": [],
      "include_colab_link": true
    }
  },
  "nbformat": 4,
  "nbformat_minor": 5
}